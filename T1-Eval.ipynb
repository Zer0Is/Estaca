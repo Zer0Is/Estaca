{
  "nbformat": 4,
  "nbformat_minor": 0,
  "metadata": {
    "colab": {
      "name": "[INF-280]T1-Evaluación.ipynb",
      "provenance": [],
      "collapsed_sections": [],
      "include_colab_link": true
    },
    "kernelspec": {
      "display_name": "Python 3",
      "language": "python",
      "name": "python3"
    },
    "language_info": {
      "codemirror_mode": {
        "name": "ipython",
        "version": 3
      },
      "file_extension": ".py",
      "mimetype": "text/x-python",
      "name": "python",
      "nbconvert_exporter": "python",
      "pygments_lexer": "ipython3",
      "version": "3.9.4"
    }
  },
  "cells": [
    {
      "cell_type": "markdown",
      "metadata": {
        "id": "view-in-github",
        "colab_type": "text"
      },
      "source": [
        "<a href=\"https://colab.research.google.com/github/Zer0Is/Estaca/blob/main/T1-Eval.ipynb\" target=\"_parent\"><img src=\"https://colab.research.google.com/assets/colab-badge.svg\" alt=\"Open In Colab\"/></a>"
      ]
    },
    {
      "cell_type": "markdown",
      "metadata": {
        "id": "AWL-lBM1NP7G"
      },
      "source": [
        "<img src=\"http://www.exalumnos.usm.cl/wp-content/uploads/2015/06/Isotipo-Negro.gif\" title=\"Title text\" width=\"20%\" height=\"20%\" />\n",
        "\n",
        "\n",
        "<hr style=\"height:2px;border:none\"/>\n",
        "<h1 align='center'> INF-280 Estadística Computacional I-2021 </h1>\n",
        "\n",
        "<H3 align='center'> Tema 1 - Análisis Exploratorio de Datos  </H3>\n",
        "<hr style=\"height:2px;border:none\"/>\n",
        "\n",
        "### **Formalidades**  \n",
        "* Es posible utilizar apuntes, libros, papers, ejemplos y cualquier otro material que desee de internet, pero debe ser usted quien desarrolle los ejercicios y comente los resultados en el Notebook que entregará. \n",
        "* Puede utilizar Python o R. En ambos casos, no puede usar funciones estadísticas específicas, excepto aquellas correspondientes al cálculo de medidas de tendencia ó dispersión (media, desviación estándar, etc) y aquellas correspondientes al cálculo de probabilidades y percentiles sobre las distribuciones revisadas en clases (pnorm, qnorm, pt, qt), etc.\n",
        "* Se podrá trabajar en grupos de **dos personas**, las cuales deberán estar inscritas a través de __[Aula](https://aula.usm.cl/)__.\n",
        "* Además del Notebook, deberán entregar un video explicando lo que hizo, paso a paso, como en los ejemplos entregados en AULA. Este vídeo es **individual**, es decir, cada integrante debe hacerlo por separado (debiendo utilizar el mismo Jupyter Notebook). El video puede ser subido a una plataforma externa como Youtube, Google Drive, ó Dropbox. El **link a compartir** (*visible para cualquier usuario con el link*) debe ir dentro del Notebook.\n",
        "* La nota de esta actividad es grupal.\n",
        "\n",
        "### **Entrega** \n",
        "* **Formato**: Se debe realizar una **única** entrega por grupo (un representate del grupo) a través de  __[**Aula**](https://aula.usm.cl/)__.\n",
        "* **Archivo**: Sus respuestas deben ser entregadas en forma de Jupyter Notebook, incluyendo **dos link** a los vídeos explicativos, uno por cada integrante.\n",
        "    * **Vídeo**: Debe grabar la pantalla (Jupyter Notebok) donde se realiza la explicación de la actividad, con una duración de 10 a 15 minutos.\n",
        "* **Fecha límite**: Viernes 16 de Abril a las 23:59.\n",
        "\n",
        "<hr style=\"height:2px;border:none\"/>"
      ]
    },
    {
      "cell_type": "markdown",
      "metadata": {
        "id": "42liL7J1c-Z-"
      },
      "source": [
        "## Enunciado\n",
        "\n",
        "<img src=\"https://image.freepik.com/vector-gratis/banner-horizontal-sobre-tema-trabajo-linea-abra-computadora-portatil-minimalismo_200484-27.jpg\" width=\"31%\"  style=\"float: right;\" />\n",
        "\n",
        "Una empresa de latinoamérica está realizando un estudio del desempeño productivo de sus trabajadores en la modalidad online de trabajo. En particular, se está estudiando y comparando tres diferentes condiciones $C$ sobre las cuales los empleados realizan sus actividades de trabajo en casa. En esta actividad tendrá acceso a los datos para ayudar en el estudio, los cuales corresponden a una muestra finita sobre cada una de las condiciones ($C_1, C_2, C_3$). Cada valor en la muestra indica la medición del desempeño productivo de algún trabajador anónimo (*mayor indica un mejor desempeño, valor mínimo es 0*).\n",
        "\n",
        "> En base al desempeño en modalidad presencial (lo cual no está disponible para esta actividad), la empresa define ciertos márgenes de pérdida referenciales a cada persona. En concreto se indicia lo siguiente: un desempeño aceptable, donde el trabajador se desenvuelve de la misma manera que lo hacía en su trabajo presencial, corresponde a un valor cercano a 10. Mientras que un valor menor a 5 se considera un desempeño inaceptable, donde el trabajador realiza menos actividades de las esperadas en el margen de trabajo online, por lo que podría generar pérdidas a la empresa. Por otro lado, un valor mayor a 20 corresponde a un desempeño sobresaliente el cual podría ayudar a acelerar ciertos proyectos y lograr más objetivos.\n",
        "\n",
        "\n",
        "Los datos pueden ser descargados a través del siguiente link: __[muestraC1](https://raw.githubusercontent.com/FMena14/ML_usm/master/Estadistica/T1-Eval-Data/Muestra_C1.txt)__, __[muestraC2](https://raw.githubusercontent.com/FMena14/ML_usm/master/Estadistica/T1-Eval-Data/Muestra_C2.txt)__, __[muestraC3](https://raw.githubusercontent.com/FMena14/ML_usm/master/Estadistica/T1-Eval-Data/Muestra_C3.txt)__. Cada fila corresponde a un dato de la muestra, los archivos no tienen encabezado (la primera fila es el primer dato de la muestra).\n",
        "> *Para descargar directamente en Jupyter puede ejecutar* (**solo sistemas unix**)\n",
        "\n",
        "```\n",
        "!wget https://raw.githubusercontent.com/FMena14/ML_usm/master/Estadistica/T1-Eval-Data/Muestra_C1.txt\n",
        "!wget https://raw.githubusercontent.com/FMena14/ML_usm/master/Estadistica/T1-Eval-Data/Muestra_C2.txt\n",
        "!wget https://raw.githubusercontent.com/FMena14/ML_usm/master/Estadistica/T1-Eval-Data/Muestra_C3.txt\n",
        "```\n",
        "\n",
        "---\n",
        "### Actividades\n",
        "*Para los análisis cuantitativos recuerde utilizar una precisión decimal más que los datos, sino su respuesta se considerará imprecisa y **podría** tener puntaje 0*."
      ]
    },
    {
      "cell_type": "markdown",
      "metadata": {
        "id": "yiF08-ezc-Z_"
      },
      "source": [
        "> a) [5 pts] Describa la población del fenómeno aleatorio de estudio, la variable asociada y las muestras a trabajar ¿Cuántos datos tiene cada muestra? \n",
        "   - **Población:** Todos los trabajadores que se encuentra en modalidad online de la empresa.\n",
        "   - **Variable:** Rendimiento de los trabajadores mediante teletrabajo.\n",
        "   - **Muestras:** Contamos con 3 muestras: Rendimiento de los trabajadores segun la condicion 1 ($C_{1}$), Rendimiento de los trabajadores segun la condicion 2 ($C_{2}$) y Rendimiento de los trabajadores segun la condicion 3 ($C_{3}$)"
      ]
    },
    {
      "cell_type": "markdown",
      "metadata": {
        "id": "cs-BdVOJc-aA"
      },
      "source": [
        "> b) [10 pts] Compare el desempeño sobre cada condición a través de los puntos centrales de tendencia (media y mediana). Comente con la información entregada en el enunciado acerca de los desempeños *aceptable*  ¿Qué información aporta el sesgo de los datos?  \n",
        "\n"
      ]
    },
    {
      "cell_type": "code",
      "metadata": {
        "id": "PP_p2Ds6c-aA",
        "outputId": "c6061adc-8d93-47b7-9101-aa21fe6dcdf1"
      },
      "source": [
        "import numpy as np\n",
        "import pandas as pd\n",
        "import math\n",
        "import matplotlib.pyplot as plt\n",
        "import matplotlib.colors as colors\n",
        "\n",
        "archiveSample_A = open('Muestra_C1.txt','r')\n",
        "archiveSample_B = open('Muestra_C2.txt','r')\n",
        "archiveSample_C = open('Muestra_C3.txt','r')\n",
        "\n",
        "sample_A = []\n",
        "\n",
        "sample_B = []\n",
        "\n",
        "sample_C = []\n",
        "\n",
        "\n",
        "for sample in archiveSample_A:\n",
        "    sample_A.append(float(sample))\n",
        "\n",
        "sample_A.sort()\n",
        "for sample in archiveSample_B:\n",
        "    sample_B.append(float(sample))\n",
        "sample_B.sort()\n",
        "for sample in archiveSample_C:\n",
        "    sample_C.append(float(sample))\n",
        "sample_C.sort()\n",
        "\n",
        "\n",
        "medidas_C1 = {}\n",
        "medidas_C2 = {}\n",
        "medidas_C3 = {}\n",
        "\n",
        "\n",
        "medidas_C1['Media'] = round(np.mean(np.array(sample_A)),1)\n",
        "medidas_C1['Mediana'] = round(np.median(np.array(sample_A)),1)\n",
        "medidas_C1['Sesgo'] = medidas_C1['Media'] - medidas_C1['Mediana']\n",
        "\n",
        "\n",
        "medidas_C2['Media'] = round(np.mean(np.array(sample_B)),1)\n",
        "medidas_C2['Mediana'] = round(np.median(np.array(sample_B)),1)\n",
        "medidas_C2['Sesgo'] = medidas_C2['Media'] - medidas_C2['Mediana']\n",
        "\n",
        "medidas_C3['Media'] = round(np.mean(np.array(sample_C)),1)\n",
        "medidas_C3['Mediana'] = np.median(np.array(sample_C))\n",
        "medidas_C3['Sesgo'] = medidas_C3['Media'] - medidas_C3['Mediana']\n",
        "\n",
        "pd.DataFrame([medidas_C1, medidas_C2, medidas_C3], [\"$C{1}$\", \"$C_{2}$\",\"$C_{3}$\"])\n",
        "\n"
      ],
      "execution_count": null,
      "outputs": [
        {
          "output_type": "execute_result",
          "data": {
            "text/html": [
              "<div>\n",
              "<style scoped>\n",
              "    .dataframe tbody tr th:only-of-type {\n",
              "        vertical-align: middle;\n",
              "    }\n",
              "\n",
              "    .dataframe tbody tr th {\n",
              "        vertical-align: top;\n",
              "    }\n",
              "\n",
              "    .dataframe thead th {\n",
              "        text-align: right;\n",
              "    }\n",
              "</style>\n",
              "<table border=\"1\" class=\"dataframe\">\n",
              "  <thead>\n",
              "    <tr style=\"text-align: right;\">\n",
              "      <th></th>\n",
              "      <th>Media</th>\n",
              "      <th>Mediana</th>\n",
              "      <th>Sesgo</th>\n",
              "    </tr>\n",
              "  </thead>\n",
              "  <tbody>\n",
              "    <tr>\n",
              "      <th>$C{1}$</th>\n",
              "      <td>9.8</td>\n",
              "      <td>8.50</td>\n",
              "      <td>1.30</td>\n",
              "    </tr>\n",
              "    <tr>\n",
              "      <th>$C_{2}$</th>\n",
              "      <td>10.1</td>\n",
              "      <td>10.30</td>\n",
              "      <td>-0.20</td>\n",
              "    </tr>\n",
              "    <tr>\n",
              "      <th>$C_{3}$</th>\n",
              "      <td>12.1</td>\n",
              "      <td>13.14</td>\n",
              "      <td>-1.04</td>\n",
              "    </tr>\n",
              "  </tbody>\n",
              "</table>\n",
              "</div>"
            ],
            "text/plain": [
              "         Media  Mediana  Sesgo\n",
              "$C{1}$     9.8     8.50   1.30\n",
              "$C_{2}$   10.1    10.30  -0.20\n",
              "$C_{3}$   12.1    13.14  -1.04"
            ]
          },
          "metadata": {
            "tags": []
          },
          "execution_count": 1
        }
      ]
    },
    {
      "cell_type": "markdown",
      "metadata": {
        "id": "PQNvgeL3c-aC"
      },
      "source": [
        "> c) [20 pts] Grafique el boxplot de cada muestra/condición y compare entre sí ¿Existe evidencia suficiente para concluir que alguna de las condiciones es mejor que las otras dos? Añada al gráfico la información que se entregó sobre los desempeños inaceptables, aceptables y sobresalientes, ¿Qué se puede comentar al respecto de las condiciones?  \n"
      ]
    },
    {
      "cell_type": "code",
      "metadata": {
        "scrolled": false,
        "id": "0chGNQLDc-aD",
        "outputId": "70755791-7599-4e96-bc76-5c3c5846b30d"
      },
      "source": [
        "\n",
        "fig = plt.figure(figsize=(7,7))\n",
        "\n",
        "\n",
        "plt.boxplot([sample_A,sample_B,sample_C])\n",
        "\n",
        "\n",
        "plt.xticks([1,2,3],[\"C1\", \"C2\",\"C3\"])\n",
        "\n",
        "\n",
        "plt.hlines(5,0,3 , label=\"desempeño aceptable\", colors='r' )\n",
        "\n",
        "plt.hlines(10,0,3 , label=\"desempeño inaceptable\", colors='b' )\n",
        "\n",
        "plt.hlines(20,0,3 , label=\"desempeño sobresaliente\", colors='g' )\n",
        " \n",
        "\n",
        "plt.show()"
      ],
      "execution_count": null,
      "outputs": [
        {
          "output_type": "display_data",
          "data": {
            "image/png": "[encoded data removed]",
            "text/plain": [
              "<Figure size 504x504 with 1 Axes>"
            ]
          },
          "metadata": {
            "tags": [],
            "needs_background": "light"
          }
        }
      ]
    },
    {
      "cell_type": "markdown",
      "metadata": {
        "id": "DkY1JmJbc-aD"
      },
      "source": [
        "> d) [15 pts] Analice la dispersión de cada muestra/condición a través de 3 medidas que entreguen información diferente. ¿Qué información aporta cada medida elegida? ¿Qué indica lo observado? Compare con lo analizado en c)  \n"
      ]
    },
    {
      "cell_type": "code",
      "metadata": {
        "id": "OBarcx5Ec-aD",
        "outputId": "9e56978d-7964-4d35-be3b-c282611eca62"
      },
      "source": [
        "dispersion_C1 = {}\n",
        "dispersion_C2 = {}\n",
        "dispersion_C3 = {}\n",
        "\n",
        "\n",
        "dispersion_C1['Rango'] = max(sample_A) - min(sample_A)\n",
        "dispersion_C1['Desviación estándar'] = np.round(np.std(np.array(sample_A),ddof=1),1)\n",
        "dispersion_C1['Varianza'] = np.round(np.var(np.array(sample_A),ddof=0),1)\n",
        "\n",
        "\n",
        "dispersion_C2['Rango'] = max(sample_B) - min(sample_B)\n",
        "dispersion_C2['Desviación estándar'] = np.round(np.std(np.array(sample_B),ddof=1),1)\n",
        "dispersion_C2['Varianza'] = np.round(np.var(np.array(sample_B),ddof=0),1)\n",
        "\n",
        "dispersion_C3['Rango'] = max(sample_C) - min(sample_C)\n",
        "dispersion_C3['Desviación estándar'] = np.round(np.std(np.array(sample_C),ddof=1),1)\n",
        "dispersion_C3['Varianza'] = np.round(np.var(np.array(sample_C),ddof=0),1)\n",
        "\n",
        "pd.DataFrame([dispersion_C1, dispersion_C2, dispersion_C3], [\"$C{1}$\", \"$C_{2}$\",\"$C_{3}$\"])\n",
        "\n",
        "\n",
        "\n"
      ],
      "execution_count": null,
      "outputs": [
        {
          "output_type": "execute_result",
          "data": {
            "text/html": [
              "<div>\n",
              "<style scoped>\n",
              "    .dataframe tbody tr th:only-of-type {\n",
              "        vertical-align: middle;\n",
              "    }\n",
              "\n",
              "    .dataframe tbody tr th {\n",
              "        vertical-align: top;\n",
              "    }\n",
              "\n",
              "    .dataframe thead th {\n",
              "        text-align: right;\n",
              "    }\n",
              "</style>\n",
              "<table border=\"1\" class=\"dataframe\">\n",
              "  <thead>\n",
              "    <tr style=\"text-align: right;\">\n",
              "      <th></th>\n",
              "      <th>Rango</th>\n",
              "      <th>Desviación estándar</th>\n",
              "      <th>Varianza</th>\n",
              "    </tr>\n",
              "  </thead>\n",
              "  <tbody>\n",
              "    <tr>\n",
              "      <th>$C{1}$</th>\n",
              "      <td>19.56</td>\n",
              "      <td>4.0</td>\n",
              "      <td>15.6</td>\n",
              "    </tr>\n",
              "    <tr>\n",
              "      <th>$C_{2}$</th>\n",
              "      <td>5.79</td>\n",
              "      <td>1.1</td>\n",
              "      <td>1.1</td>\n",
              "    </tr>\n",
              "    <tr>\n",
              "      <th>$C_{3}$</th>\n",
              "      <td>15.29</td>\n",
              "      <td>3.5</td>\n",
              "      <td>12.2</td>\n",
              "    </tr>\n",
              "  </tbody>\n",
              "</table>\n",
              "</div>"
            ],
            "text/plain": [
              "         Rango  Desviación estándar  Varianza\n",
              "$C{1}$   19.56                  4.0      15.6\n",
              "$C_{2}$   5.79                  1.1       1.1\n",
              "$C_{3}$  15.29                  3.5      12.2"
            ]
          },
          "metadata": {
            "tags": []
          },
          "execution_count": 11
        }
      ]
    },
    {
      "cell_type": "markdown",
      "metadata": {
        "id": "2xP8-1h8c-aE"
      },
      "source": [
        "> e) [20 pts] En base a toda la información recolectada hasta este punto (medidas de tendencia, variabilidad y gráficos) ¿Cuál condición $C$ le recomendaría a la empresa inculcar sobre el resto de empleados? ¿Por qué? Apoye su elección en base a los tipos de desempeño.\n"
      ]
    },
    {
      "cell_type": "markdown",
      "metadata": {
        "id": "71FxkadHc-aE"
      },
      "source": [
        "> f) [15 pts] Al volver a revisar el proceso de recolección de datos, se encontró con un trabajador que no había sido considerado antes, con un desempeño de 13. No se encontró la información de en cuál condición se encontraba. En base a lo realizado en la actividad, explique e implemente una técnica para tratar de inferir bajo qué condición se encontraba este trabajador olvidado. ¿Cuál condición? ¿Por qué? ¿Sería posible entregar un margen de error de su técnica?\n"
      ]
    },
    {
      "cell_type": "markdown",
      "metadata": {
        "id": "m9TZhYSLc-aF"
      },
      "source": [
        "> g) [15 pts] Ahora se le solicita realizar el estudio de qué ocurre si la empresa decide gradualmente enviar a sus mejores trabajadores (los con desempeño más alto) al trabajo presencial de oficina.  Compare cómo se ve afectada la media muestral de cada condición si un porcentaje $p$ de los trabajadores bajo esa condición son enviados a trabajo presencial (ya no formarían parte de esta muestra). Grafique la variación de $p$ en un rango $[0;0.99]$. En base a esto ¿Cuál condición sería recomendable mantener en trabajo online para evitar una baja en las medidas de tendencia central de trabajo online?\n"
      ]
    },
    {
      "cell_type": "code",
      "metadata": {
        "id": "N2tHbKlZc-aF"
      },
      "source": [
        ""
      ],
      "execution_count": null,
      "outputs": []
    },
    {
      "cell_type": "code",
      "metadata": {
        "id": "3QVU9Ffic-aF"
      },
      "source": [
        ""
      ],
      "execution_count": null,
      "outputs": []
    },
    {
      "cell_type": "code",
      "metadata": {
        "id": "YCmmOlUGc-aG"
      },
      "source": [
        ""
      ],
      "execution_count": null,
      "outputs": []
    },
    {
      "cell_type": "code",
      "metadata": {
        "id": "yDVWyQ9ec-aG"
      },
      "source": [
        ""
      ],
      "execution_count": null,
      "outputs": []
    }
  ]
}